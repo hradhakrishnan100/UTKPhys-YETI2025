{
 "cells": [
  {
   "cell_type": "code",
   "execution_count": 1,
   "id": "d6c1d1be",
   "metadata": {},
   "outputs": [
    {
     "name": "stdout",
     "output_type": "stream",
     "text": [
      "D8 FF E0 FF 10 00 46 4A 46 49 01 00 00 01 50 00 50 00 00 00 E1 FF 8C 00 78 45 66 69 00 00 4D 4D\n"
     ]
    }
   ],
   "source": [
    "def show_hex(infile, byte_count=32):\n",
    "    with open(infile, \"rb\") as f:\n",
    "        data = f.read(byte_count)\n",
    "    print(\" \".join(f\"{b:02X}\" for b in data))\n",
    "\n",
    "if __name__ == \"__main__\":\n",
    "    show_hex(\"transmission.jpg\")"
   ]
  },
  {
   "cell_type": "code",
   "execution_count": 2,
   "id": "29dca7c9",
   "metadata": {},
   "outputs": [],
   "source": [
    "def swap_bytes(infile, outfile):\n",
    "    with open(infile, \"rb\") as f:\n",
    "        data = f.read()\n",
    "\n",
    "    swapped_data = bytearray(data)\n",
    "\n",
    "    # Swap adjacent bytes\n",
    "    # automatically handles odd-length data \n",
    "    swapped_data[::2], swapped_data[1::2] = swapped_data[1::2], swapped_data[::2]\n",
    "\n",
    "    with open(outfile, \"wb\") as f:\n",
    "        f.write(swapped_data)\n",
    "\n",
    "if __name__ == \"__main__\":\n",
    "    swap_bytes(\"transmission.jpg\", \"decrypted.jpg\")"
   ]
  },
  {
   "cell_type": "code",
   "execution_count": null,
   "id": "1cca28e8",
   "metadata": {},
   "outputs": [],
   "source": []
  }
 ],
 "metadata": {
  "kernelspec": {
   "display_name": "Python 3 (ipykernel)",
   "language": "python",
   "name": "python3"
  },
  "language_info": {
   "codemirror_mode": {
    "name": "ipython",
    "version": 3
   },
   "file_extension": ".py",
   "mimetype": "text/x-python",
   "name": "python",
   "nbconvert_exporter": "python",
   "pygments_lexer": "ipython3",
   "version": "3.11.5"
  }
 },
 "nbformat": 4,
 "nbformat_minor": 5
}
